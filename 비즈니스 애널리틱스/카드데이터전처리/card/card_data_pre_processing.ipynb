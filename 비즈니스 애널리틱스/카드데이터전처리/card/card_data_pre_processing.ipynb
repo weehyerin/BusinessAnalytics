{
 "cells": [
  {
   "cell_type": "markdown",
   "metadata": {},
   "source": [
    "## import card"
   ]
  },
  {
   "cell_type": "code",
   "execution_count": 1,
   "metadata": {},
   "outputs": [],
   "source": [
    "import pandas as pd\n",
    "import matplotlib.pyplot as plt\n",
    "\n",
    "bad_card = pd.read_csv(\"../data/카드_미세먼지_구분/bad_card.csv\")\n",
    "soso_card = pd.read_csv(\"../data/카드_미세먼지_구분/soso_card.csv\")"
   ]
  },
  {
   "cell_type": "code",
   "execution_count": 92,
   "metadata": {},
   "outputs": [],
   "source": [
    "bad = bad_card['MCT_CAT_CD'].value_counts()"
   ]
  },
  {
   "cell_type": "code",
   "execution_count": 93,
   "metadata": {},
   "outputs": [],
   "source": [
    "soso = soso_card['MCT_CAT_CD'].value_counts()"
   ]
  },
  {
   "cell_type": "code",
   "execution_count": 94,
   "metadata": {},
   "outputs": [],
   "source": [
    "bad = pd.DataFrame(bad)"
   ]
  },
  {
   "cell_type": "code",
   "execution_count": 95,
   "metadata": {},
   "outputs": [],
   "source": [
    "soso = pd.DataFrame(soso)"
   ]
  },
  {
   "cell_type": "code",
   "execution_count": 96,
   "metadata": {},
   "outputs": [],
   "source": [
    "bad_list = bad['MCT_CAT_CD'].values.tolist()\n",
    "soso_list = soso['MCT_CAT_CD'].values.tolist()"
   ]
  },
  {
   "cell_type": "code",
   "execution_count": 97,
   "metadata": {},
   "outputs": [],
   "source": [
    "def counttt(li, num):\n",
    "    li_re = []\n",
    "    for i in range(len(li)):\n",
    "        per = int(li[i])/num *100\n",
    "        li_re.append(per)\n",
    "    #li_re = pd.DataFrame(li_re)\n",
    "    return li_re"
   ]
  },
  {
   "cell_type": "code",
   "execution_count": 98,
   "metadata": {},
   "outputs": [],
   "source": [
    "bad_result = counttt(bad_list, bad_card['MCT_CAT_CD'].count())\n",
    "soso_result = counttt(soso_list, soso_card['MCT_CAT_CD'].count())"
   ]
  },
  {
   "cell_type": "code",
   "execution_count": 99,
   "metadata": {},
   "outputs": [],
   "source": [
    "bad['percent'] = bad_result"
   ]
  },
  {
   "cell_type": "code",
   "execution_count": 100,
   "metadata": {},
   "outputs": [],
   "source": [
    "soso['percent'] = soso_result"
   ]
  },
  {
   "cell_type": "code",
   "execution_count": 101,
   "metadata": {},
   "outputs": [],
   "source": [
    "def differ(bad, soso):\n",
    "    bad_re = []\n",
    "    soso_re = []\n",
    "    aver_re = []\n",
    "    for i in range(len(bad)):\n",
    "        bad_re.append(bad[i] - soso[i])\n",
    "        soso_re.append(soso[i] - bad[i])\n",
    "        aver_re.append(abs(soso[i] - bad[i]))\n",
    "    return bad_re, soso_re, aver_re"
   ]
  },
  {
   "cell_type": "code",
   "execution_count": 102,
   "metadata": {},
   "outputs": [],
   "source": [
    "bad_re, soso_re, aver_re = differ(bad_result,soso_result)"
   ]
  },
  {
   "cell_type": "code",
   "execution_count": 103,
   "metadata": {},
   "outputs": [],
   "source": [
    "bad = bad.reset_index()"
   ]
  },
  {
   "cell_type": "code",
   "execution_count": 104,
   "metadata": {},
   "outputs": [],
   "source": [
    "bad['bad_dif'] = bad_re\n",
    "bad['soso_dif'] = soso_re\n",
    "bad['aver_dif'] = aver_re"
   ]
  },
  {
   "cell_type": "code",
   "execution_count": 108,
   "metadata": {},
   "outputs": [],
   "source": [
    "def make_hash(bad):\n",
    "    bad_ha = {}\n",
    "    soso_ha = {}\n",
    "    aver_ha = {}\n",
    "    for i in range(bad['bad_dif'].count()):\n",
    "        bad_ha[bad['index'][i]] = bad['bad_dif'][i]\n",
    "    for i in range(bad['soso_dif'].count()):\n",
    "        soso_ha[bad['index'][i]] = bad['soso_dif'][i]\n",
    "    for i in range(bad['aver_dif'].count()):\n",
    "        aver_ha[bad['index'][i]] = bad['aver_dif'][i]\n",
    "    return bad_ha, soso_ha, aver_ha"
   ]
  },
  {
   "cell_type": "code",
   "execution_count": 109,
   "metadata": {},
   "outputs": [],
   "source": [
    "bad_ha, soso_ha, aver_ha = make_hash(bad)"
   ]
  },
  {
   "cell_type": "code",
   "execution_count": 111,
   "metadata": {},
   "outputs": [],
   "source": [
    "def topFive(bad, soso, aver):\n",
    "    bad_result = sorted(bad, key=lambda k : bad[k], reverse = True)\n",
    "    soso_result = sorted(soso, key=lambda k : soso[k], reverse = True)\n",
    "    aver_result = sorted(soso, key=lambda k : aver[k], reverse = True)\n",
    "    bad_result = bad_result[0:5]\n",
    "    soso_result = soso_result[0:5]\n",
    "    aver_result = aver_result[0:5]\n",
    "    return bad_result, soso_result, aver_result"
   ]
  },
  {
   "cell_type": "code",
   "execution_count": 112,
   "metadata": {},
   "outputs": [],
   "source": [
    "bad_result, soso_result, aver_result = topFive(bad_ha, soso_ha, aver_ha)"
   ]
  },
  {
   "cell_type": "code",
   "execution_count": 116,
   "metadata": {},
   "outputs": [],
   "source": [
    "def result_top(bad, soso, aver):\n",
    "    b = []\n",
    "    s = []\n",
    "    for i in range(len(aver)):\n",
    "        for j in range(len(bad)):\n",
    "            if aver[i] == bad[j]:\n",
    "                b.append(bad[j])\n",
    "        for k in range(len(soso)):\n",
    "            if aver[i] == soso[k]:\n",
    "                s.append(soso[k])\n",
    "    return b, s"
   ]
  },
  {
   "cell_type": "code",
   "execution_count": 117,
   "metadata": {},
   "outputs": [],
   "source": [
    "b, s= result_top(bad_result, soso_result, aver_result)"
   ]
  },
  {
   "cell_type": "code",
   "execution_count": 118,
   "metadata": {},
   "outputs": [
    {
     "data": {
      "text/plain": [
       "([21, 22, 92], [42, 33])"
      ]
     },
     "execution_count": 118,
     "metadata": {},
     "output_type": "execute_result"
    }
   ],
   "source": [
    "b, s"
   ]
  },
  {
   "cell_type": "code",
   "execution_count": 119,
   "metadata": {},
   "outputs": [],
   "source": [
    "def result(b, s):\n",
    "    bad = b['MCT_CAT_CD'].value_counts()\n",
    "    soso = s['MCT_CAT_CD'].value_counts()\n",
    "    bad = pd.DataFrame(bad)\n",
    "    soso = pd.DataFrame(soso)\n",
    "    bad_list = bad['MCT_CAT_CD'].values.tolist()\n",
    "    soso_list = soso['MCT_CAT_CD'].values.tolist()\n",
    "    bad_result = counttt(bad_list, bad_female['MCT_CAT_CD'].count())\n",
    "    soso_result = counttt(soso_list, soso_female['MCT_CAT_CD'].count())\n",
    "    bad['percent'] = bad_result\n",
    "    soso['percent'] = soso_result\n",
    "    bad_re, soso_re, aver_re = differ(bad_result,soso_result)\n",
    "    bad = bad.reset_index()\n",
    "    bad['bad_dif'] = bad_re\n",
    "    bad['soso_dif'] = soso_re\n",
    "    bad['aver_dif'] = aver_re\n",
    "    bad_ha, soso_ha, aver_ha = make_hash(bad)\n",
    "    bad_result, soso_result, aver_result = topFive(bad_ha, soso_ha, aver_ha)\n",
    "    b, s= result_top(bad_result, soso_result, aver_result)\n",
    "    print(b)\n",
    "    print(s)"
   ]
  },
  {
   "cell_type": "code",
   "execution_count": 120,
   "metadata": {},
   "outputs": [
    {
     "name": "stdout",
     "output_type": "stream",
     "text": [
      "[92, 22, 34, 44]\n",
      "[42]\n"
     ]
    }
   ],
   "source": [
    "result(bad_card[bad_card['SEX_CD'] == 'F'], soso_card[soso_card['SEX_CD'] == 'F'])"
   ]
  },
  {
   "cell_type": "code",
   "execution_count": 121,
   "metadata": {},
   "outputs": [
    {
     "name": "stdout",
     "output_type": "stream",
     "text": [
      "[21, 42, 34]\n",
      "[33, 22]\n"
     ]
    }
   ],
   "source": [
    "result(bad_card[bad_card['SEX_CD'] == 'M'], soso_card[soso_card['SEX_CD'] == 'M'])"
   ]
  },
  {
   "cell_type": "code",
   "execution_count": 123,
   "metadata": {},
   "outputs": [],
   "source": [
    "bad_female = bad_card[bad_card['SEX_CD'] == 'F']\n",
    "soso_female = soso_card[soso_card['SEX_CD'] == 'F']\n",
    "bad_male = bad_card[bad_card['SEX_CD'] == 'M']\n",
    "soso_male = soso_card[soso_card['SEX_CD'] == 'M']"
   ]
  },
  {
   "cell_type": "code",
   "execution_count": 144,
   "metadata": {},
   "outputs": [
    {
     "name": "stdout",
     "output_type": "stream",
     "text": [
      "[71, 21, 70, 92, 50]\n",
      "[]\n"
     ]
    }
   ],
   "source": [
    "result(bad_male[bad_male['AGE_CD'] == 65], soso_male[soso_male['AGE_CD'] == 65])"
   ]
  },
  {
   "cell_type": "code",
   "execution_count": 219,
   "metadata": {},
   "outputs": [],
   "source": [
    "bad_female = bad_female[bad_female['AGE_CD'] == 20]\n",
    "soso_female = soso_female[soso_female['AGE_CD'] == 20]\n",
    "\n",
    "bad_female = bad_card[bad_card['SEX_CD'] == 'F']\n",
    "#bad_female = bad_female[bad_female['AGE_CD'] == 20]\n",
    "soso_female = soso_card[soso_card['SEX_CD'] == 'F']\n",
    "#soso_female = soso_female[soso_female['AGE_CD'] == 20]\n",
    "\n",
    "bad = bad_female['MCT_CAT_CD'].value_counts()\n",
    "soso = soso_female['MCT_CAT_CD'].value_counts()\n",
    "bad = pd.DataFrame(bad)\n",
    "soso = pd.DataFrame(soso)\n",
    "bad_list = bad['MCT_CAT_CD'].values.tolist()\n",
    "soso_list = soso['MCT_CAT_CD'].values.tolist()\n",
    "bad_result = counttt(bad_list, bad_female['MCT_CAT_CD'].count())\n",
    "soso_result = counttt(soso_list, soso_female['MCT_CAT_CD'].count())\n",
    "bad['percent'] = bad_result\n",
    "soso['percent'] = soso_result\n",
    "re = differ(bad_result,soso_result)\n",
    "bad = bad.reset_index()\n",
    "bad['dif'] = re\n",
    "ha = make_hash(bad)\n",
    "top_li = []\n",
    "for i in range(5):\n",
    "    top_li.append(top(re))\n",
    "re_ha = comp(top_li, ha)\n",
    "re_ha.keys()\n",
    "print(re)"
   ]
  },
  {
   "cell_type": "code",
   "execution_count": 210,
   "metadata": {},
   "outputs": [
    {
     "data": {
      "text/html": [
       "<div>\n",
       "<style scoped>\n",
       "    .dataframe tbody tr th:only-of-type {\n",
       "        vertical-align: middle;\n",
       "    }\n",
       "\n",
       "    .dataframe tbody tr th {\n",
       "        vertical-align: top;\n",
       "    }\n",
       "\n",
       "    .dataframe thead th {\n",
       "        text-align: right;\n",
       "    }\n",
       "</style>\n",
       "<table border=\"1\" class=\"dataframe\">\n",
       "  <thead>\n",
       "    <tr style=\"text-align: right;\">\n",
       "      <th></th>\n",
       "      <th>MCT_CAT_CD</th>\n",
       "      <th>percent</th>\n",
       "    </tr>\n",
       "  </thead>\n",
       "  <tbody>\n",
       "    <tr>\n",
       "      <th>40</th>\n",
       "      <td>62193</td>\n",
       "      <td>13.002084</td>\n",
       "    </tr>\n",
       "    <tr>\n",
       "      <th>80</th>\n",
       "      <td>61619</td>\n",
       "      <td>12.882084</td>\n",
       "    </tr>\n",
       "    <tr>\n",
       "      <th>81</th>\n",
       "      <td>59172</td>\n",
       "      <td>12.370513</td>\n",
       "    </tr>\n",
       "    <tr>\n",
       "      <th>70</th>\n",
       "      <td>54332</td>\n",
       "      <td>11.358662</td>\n",
       "    </tr>\n",
       "    <tr>\n",
       "      <th>71</th>\n",
       "      <td>46804</td>\n",
       "      <td>9.784856</td>\n",
       "    </tr>\n",
       "    <tr>\n",
       "      <th>50</th>\n",
       "      <td>32978</td>\n",
       "      <td>6.894389</td>\n",
       "    </tr>\n",
       "    <tr>\n",
       "      <th>42</th>\n",
       "      <td>29074</td>\n",
       "      <td>6.078218</td>\n",
       "    </tr>\n",
       "    <tr>\n",
       "      <th>22</th>\n",
       "      <td>21864</td>\n",
       "      <td>4.570893</td>\n",
       "    </tr>\n",
       "    <tr>\n",
       "      <th>21</th>\n",
       "      <td>17980</td>\n",
       "      <td>3.758903</td>\n",
       "    </tr>\n",
       "    <tr>\n",
       "      <th>62</th>\n",
       "      <td>17455</td>\n",
       "      <td>3.649147</td>\n",
       "    </tr>\n",
       "    <tr>\n",
       "      <th>33</th>\n",
       "      <td>17260</td>\n",
       "      <td>3.608380</td>\n",
       "    </tr>\n",
       "    <tr>\n",
       "      <th>44</th>\n",
       "      <td>17256</td>\n",
       "      <td>3.607544</td>\n",
       "    </tr>\n",
       "    <tr>\n",
       "      <th>92</th>\n",
       "      <td>15572</td>\n",
       "      <td>3.255486</td>\n",
       "    </tr>\n",
       "    <tr>\n",
       "      <th>34</th>\n",
       "      <td>6496</td>\n",
       "      <td>1.358055</td>\n",
       "    </tr>\n",
       "    <tr>\n",
       "      <th>35</th>\n",
       "      <td>5515</td>\n",
       "      <td>1.152967</td>\n",
       "    </tr>\n",
       "    <tr>\n",
       "      <th>43</th>\n",
       "      <td>4691</td>\n",
       "      <td>0.980702</td>\n",
       "    </tr>\n",
       "    <tr>\n",
       "      <th>52</th>\n",
       "      <td>3766</td>\n",
       "      <td>0.787321</td>\n",
       "    </tr>\n",
       "    <tr>\n",
       "      <th>32</th>\n",
       "      <td>2381</td>\n",
       "      <td>0.497772</td>\n",
       "    </tr>\n",
       "    <tr>\n",
       "      <th>30</th>\n",
       "      <td>959</td>\n",
       "      <td>0.200489</td>\n",
       "    </tr>\n",
       "    <tr>\n",
       "      <th>31</th>\n",
       "      <td>619</td>\n",
       "      <td>0.129408</td>\n",
       "    </tr>\n",
       "    <tr>\n",
       "      <th>60</th>\n",
       "      <td>345</td>\n",
       "      <td>0.072126</td>\n",
       "    </tr>\n",
       "  </tbody>\n",
       "</table>\n",
       "</div>"
      ],
      "text/plain": [
       "    MCT_CAT_CD    percent\n",
       "40       62193  13.002084\n",
       "80       61619  12.882084\n",
       "81       59172  12.370513\n",
       "70       54332  11.358662\n",
       "71       46804   9.784856\n",
       "50       32978   6.894389\n",
       "42       29074   6.078218\n",
       "22       21864   4.570893\n",
       "21       17980   3.758903\n",
       "62       17455   3.649147\n",
       "33       17260   3.608380\n",
       "44       17256   3.607544\n",
       "92       15572   3.255486\n",
       "34        6496   1.358055\n",
       "35        5515   1.152967\n",
       "43        4691   0.980702\n",
       "52        3766   0.787321\n",
       "32        2381   0.497772\n",
       "30         959   0.200489\n",
       "31         619   0.129408\n",
       "60         345   0.072126"
      ]
     },
     "execution_count": 210,
     "metadata": {},
     "output_type": "execute_result"
    }
   ],
   "source": []
  }
 ],
 "metadata": {
  "kernelspec": {
   "display_name": "Python 3",
   "language": "python",
   "name": "python3"
  },
  "language_info": {
   "codemirror_mode": {
    "name": "ipython",
    "version": 3
   },
   "file_extension": ".py",
   "mimetype": "text/x-python",
   "name": "python",
   "nbconvert_exporter": "python",
   "pygments_lexer": "ipython3",
   "version": "3.6.5"
  }
 },
 "nbformat": 4,
 "nbformat_minor": 2
}
