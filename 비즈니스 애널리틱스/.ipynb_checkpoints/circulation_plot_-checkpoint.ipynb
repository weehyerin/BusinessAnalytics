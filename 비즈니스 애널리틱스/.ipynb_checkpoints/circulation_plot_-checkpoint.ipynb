{
 "cells": [
  {
   "cell_type": "code",
   "execution_count": 2,
   "metadata": {},
   "outputs": [],
   "source": [
    "import numpy as np\n",
    "import matplotlib.pyplot as plt\n",
    "import pandas as pd"
   ]
  },
  {
   "cell_type": "code",
   "execution_count": 3,
   "metadata": {},
   "outputs": [],
   "source": [
    "bad_circulation = pd.read_csv(\"bad_circulation.csv\")"
   ]
  },
  {
   "cell_type": "code",
   "execution_count": 4,
   "metadata": {},
   "outputs": [],
   "source": [
    "soso_circulation = pd.read_csv(\"soso_circulation.csv\")"
   ]
  },
  {
   "cell_type": "code",
   "execution_count": 5,
   "metadata": {},
   "outputs": [
    {
     "data": {
      "text/plain": [
       "Index(['Unnamed: 0', 'date', 'sales', 'meal', 'snack', 'drink', 'home_living',\n",
       "       'health_beauty', 'hobby', 'social', 'infant'],\n",
       "      dtype='object')"
      ]
     },
     "execution_count": 5,
     "metadata": {},
     "output_type": "execute_result"
    }
   ],
   "source": [
    "bad_circulation.columns"
   ]
  },
  {
   "cell_type": "code",
   "execution_count": 6,
   "metadata": {},
   "outputs": [],
   "source": [
    "del bad_circulation['Unnamed: 0']"
   ]
  },
  {
   "cell_type": "code",
   "execution_count": 7,
   "metadata": {},
   "outputs": [],
   "source": [
    "del soso_circulation['Unnamed: 0']"
   ]
  },
  {
   "cell_type": "code",
   "execution_count": 8,
   "metadata": {},
   "outputs": [],
   "source": [
    "bad_date = bad_circulation.date\n",
    "bad_drink = bad_circulation.drink\n",
    "soso_date = soso_circulation.date\n",
    "soso_drink = soso_circulation.drink"
   ]
  },
  {
   "cell_type": "code",
   "execution_count": 9,
   "metadata": {},
   "outputs": [],
   "source": [
    "bad_date = pd.DataFrame(bad_date)\n",
    "bad_drink = pd.DataFrame(bad_drink)\n",
    "soso_date = pd.DataFrame(soso_date)\n",
    "soso_drink = pd.DataFrame(soso_drink)\n",
    "\n",
    "bad = pd.concat([bad_date, bad_drink], axis = 1)\n",
    "soso = pd.concat([soso_date, soso_drink], axis = 1)"
   ]
  },
  {
   "cell_type": "code",
   "execution_count": 10,
   "metadata": {},
   "outputs": [],
   "source": [
    "bad = bad.rename(columns={'drink': 'bad_drink'})\n",
    "soso = soso.rename(columns={'drink': 'soso_drink'})\n",
    "bad = bad.reset_index(drop=True)\n",
    "soso = soso.reset_index(drop=True)"
   ]
  },
  {
   "cell_type": "code",
   "execution_count": 11,
   "metadata": {},
   "outputs": [],
   "source": [
    "bad_date = bad.date.tolist()\n",
    "bad_drink = bad.bad_drink.tolist()\n",
    "soso_date = soso.date.tolist()\n",
    "soso_drink = soso.soso_drink.tolist()"
   ]
  },
  {
   "cell_type": "code",
   "execution_count": 13,
   "metadata": {},
   "outputs": [],
   "source": [
    "bad_column = bad_circulation.columns\n",
    "result = []\n",
    "for i in bad_drink:\n",
    "    \n",
    "    text = str(i)\n",
    "    text= text.replace(\"%\",\"\")\n",
    "    result.append(text)"
   ]
  },
  {
   "cell_type": "code",
   "execution_count": 14,
   "metadata": {},
   "outputs": [],
   "source": [
    "bad_drink = pd.DataFrame(result)\n",
    "bad_date = pd.DataFrame(bad_date)\n",
    "\n",
    "bad = pd.concat([bad_date, bad_drink], axis = 1)\n",
    "bad.columns = [\"date\", \"bad_drink\"]"
   ]
  },
  {
   "cell_type": "code",
   "execution_count": 15,
   "metadata": {},
   "outputs": [],
   "source": [
    "result = []\n",
    "for i in soso_drink:\n",
    "    \n",
    "    text = str(i)\n",
    "    text= text.replace(\"%\",\"\")\n",
    "    result.append(text)\n",
    "    \n",
    "soso_drink = pd.DataFrame(result)\n",
    "soso_date = pd.DataFrame(soso_date)\n",
    "\n",
    "soso = pd.concat([soso_date, soso_drink], axis = 1)\n",
    "soso.columns = [\"date\", \"soso_drink\"] "
   ]
  },
  {
   "cell_type": "code",
   "execution_count": 16,
   "metadata": {},
   "outputs": [],
   "source": [
    "bad_ha = {}\n",
    "result = []\n",
    "date = bad.date\n",
    "drink = bad.bad_drink\n",
    "for i in range(0, len(date)):\n",
    "    result = []\n",
    "    for j in range(i, len(date)):\n",
    "        if i == j:\n",
    "            if date[i] == date[j]:\n",
    "                if(date[i] in bad_ha):\n",
    "                    if type(bad_ha[date[i]]) != list:\n",
    "                        result.append(bad_ha[date[i]])\n",
    "                    else:\n",
    "                        result = bad_ha[date[i]]\n",
    "                    result.append(drink[i])\n",
    "                    bad_ha[date[i]] = result\n",
    "                    pass\n",
    "                else:\n",
    "                    bad_ha[date[i]] = drink[i]\n",
    "            else:\n",
    "                i = j\n",
    "                break\n",
    "        else:\n",
    "            i = j\n",
    "            break"
   ]
  },
  {
   "cell_type": "code",
   "execution_count": 17,
   "metadata": {},
   "outputs": [],
   "source": [
    "bad_date_key = list(bad_ha.keys())\n",
    "bad_drink_aver = {}\n",
    "drink_result_bad = []\n",
    "drink_date_bad = []\n",
    "\n",
    "for i in bad_date_key:\n",
    "    aver = 0\n",
    "    for j in bad_ha[i]:\n",
    "        aver = aver + float(j)\n",
    "    aver = aver / len(bad_ha[i])\n",
    "    drink_result_bad.append(aver)\n",
    "    drink_date_bad.append(i)\n",
    "    bad_drink_aver[i] = aver"
   ]
  },
  {
   "cell_type": "code",
   "execution_count": null,
   "metadata": {},
   "outputs": [],
   "source": [
    "soso_ha = {}\n",
    "result = []\n",
    "date = soso.date\n",
    "drink = soso.soso_drink\n",
    "for i in range(0, len(date)):\n",
    "    result = []\n",
    "    for j in range(i, len(date)):\n",
    "        if i == j:\n",
    "            if date[i] == date[j]:\n",
    "                if(date[i] in soso_ha):\n",
    "                    if type(soso_ha[date[i]]) != list:\n",
    "                        result.append(soso_ha[date[i]])\n",
    "                    else:\n",
    "                        result = soso_ha[date[i]]\n",
    "                    result.append(drink[i])\n",
    "                    soso_ha[date[i]] = result\n",
    "                    pass\n",
    "                else:\n",
    "                    soso_ha[date[i]] = drink[i]\n",
    "            else:\n",
    "                i = j\n",
    "                break\n",
    "        else:\n",
    "            i = j\n",
    "            break\n",
    "\n",
    "soso_date_key = list(soso_ha.keys())\n",
    "soso_drink_aver = {} \n",
    "drink_result_soso = []\n",
    "drink_date_soso = []\n",
    "\n",
    "for i in soso_date_key:\n",
    "    aver = 0\n",
    "    for j in soso_ha[i]:\n",
    "        aver = aver + float(j)\n",
    "    aver = aver / len(soso_ha[i])\n",
    "    drink_result_soso.append(aver)\n",
    "    drink_date_soso.append(i)\n",
    "    soso_drink_aver[i] = aver"
   ]
  }
 ],
 "metadata": {
  "kernelspec": {
   "display_name": "Python 3",
   "language": "python",
   "name": "python3"
  },
  "language_info": {
   "codemirror_mode": {
    "name": "ipython",
    "version": 3
   },
   "file_extension": ".py",
   "mimetype": "text/x-python",
   "name": "python",
   "nbconvert_exporter": "python",
   "pygments_lexer": "ipython3",
   "version": "3.6.5"
  }
 },
 "nbformat": 4,
 "nbformat_minor": 2
}
